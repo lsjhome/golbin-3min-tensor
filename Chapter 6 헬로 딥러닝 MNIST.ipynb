{
 "cells": [
  {
   "cell_type": "markdown",
   "metadata": {},
   "source": [
    "# 6장 헬로 딥러닝 MNIST"
   ]
  },
  {
   "cell_type": "markdown",
   "metadata": {},
   "source": [
    "## 6.1 MNIST 학습하기"
   ]
  },
  {
   "cell_type": "markdown",
   "metadata": {},
   "source": [
    "1. 텐서플로 임포트, 텐서플로에 내장된 mnist.input\\_data 모듈 임포트"
   ]
  },
  {
   "cell_type": "code",
   "execution_count": 1,
   "metadata": {},
   "outputs": [
    {
     "name": "stdout",
     "output_type": "stream",
     "text": [
      "WARNING:tensorflow:From <ipython-input-1-bed9dddec7b6>:4: read_data_sets (from tensorflow.contrib.learn.python.learn.datasets.mnist) is deprecated and will be removed in a future version.\n",
      "Instructions for updating:\n",
      "Please use alternatives such as official/mnist/dataset.py from tensorflow/models.\n",
      "WARNING:tensorflow:From /Users/smfc/.pyenv/versions/3.6.4/envs/golbin-3min-tensor/lib/python3.6/site-packages/tensorflow/contrib/learn/python/learn/datasets/mnist.py:260: maybe_download (from tensorflow.contrib.learn.python.learn.datasets.base) is deprecated and will be removed in a future version.\n",
      "Instructions for updating:\n",
      "Please write your own downloading logic.\n",
      "WARNING:tensorflow:From /Users/smfc/.pyenv/versions/3.6.4/envs/golbin-3min-tensor/lib/python3.6/site-packages/tensorflow/contrib/learn/python/learn/datasets/mnist.py:262: extract_images (from tensorflow.contrib.learn.python.learn.datasets.mnist) is deprecated and will be removed in a future version.\n",
      "Instructions for updating:\n",
      "Please use tf.data to implement this functionality.\n",
      "Extracting ./mnist/data/train-images-idx3-ubyte.gz\n",
      "WARNING:tensorflow:From /Users/smfc/.pyenv/versions/3.6.4/envs/golbin-3min-tensor/lib/python3.6/site-packages/tensorflow/contrib/learn/python/learn/datasets/mnist.py:267: extract_labels (from tensorflow.contrib.learn.python.learn.datasets.mnist) is deprecated and will be removed in a future version.\n",
      "Instructions for updating:\n",
      "Please use tf.data to implement this functionality.\n",
      "Extracting ./mnist/data/train-labels-idx1-ubyte.gz\n",
      "WARNING:tensorflow:From /Users/smfc/.pyenv/versions/3.6.4/envs/golbin-3min-tensor/lib/python3.6/site-packages/tensorflow/contrib/learn/python/learn/datasets/mnist.py:110: dense_to_one_hot (from tensorflow.contrib.learn.python.learn.datasets.mnist) is deprecated and will be removed in a future version.\n",
      "Instructions for updating:\n",
      "Please use tf.one_hot on tensors.\n",
      "Extracting ./mnist/data/t10k-images-idx3-ubyte.gz\n",
      "Extracting ./mnist/data/t10k-labels-idx1-ubyte.gz\n",
      "WARNING:tensorflow:From /Users/smfc/.pyenv/versions/3.6.4/envs/golbin-3min-tensor/lib/python3.6/site-packages/tensorflow/contrib/learn/python/learn/datasets/mnist.py:290: DataSet.__init__ (from tensorflow.contrib.learn.python.learn.datasets.mnist) is deprecated and will be removed in a future version.\n",
      "Instructions for updating:\n",
      "Please use alternatives such as official/mnist/dataset.py from tensorflow/models.\n"
     ]
    }
   ],
   "source": [
    "import tensorflow as tf\n",
    "\n",
    "from tensorflow.examples.tutorials.mnist import input_data\n",
    "mnist = input_data.read_data_sets(\"./mnist/data/\", one_hot=True)"
   ]
  },
  {
   "cell_type": "markdown",
   "metadata": {},
   "source": [
    "2. MNIST 손글씨 이미지는 28 $\\times$ 28 픽셀이다. 즉 784개의 특징으로 이루어져 있다. 레이블은 0에서 9까지인 10개의 분류로 나누어 진다."
   ]
  },
  {
   "cell_type": "code",
   "execution_count": 2,
   "metadata": {},
   "outputs": [],
   "source": [
    "X = tf.placeholder(tf.float32, [None, 784])\n",
    "Y = tf.placeholder(tf.float32, [None, 10])"
   ]
  },
  {
   "cell_type": "markdown",
   "metadata": {},
   "source": [
    "- 데이터를 적당한 크기로 잘라서 학습시키는데, 이것을 **미니배치**라 한다.\n",
    "- None은 한 번에 학습시킬 이미지의 개수, 즉 배치 크기를 정하는 자리이다. 한번에 학습할 개수를 계속 바꿔가면서 실험해보려면 None으로 넣어주면 텐서플로가 알아서 계산한다."
   ]
  },
  {
   "cell_type": "markdown",
   "metadata": {},
   "source": [
    "신경망 모습\n",
    "\n",
    "```\n",
    "784(입력, 특징 개수) - > 256(첫 번째 은닉층 뉴런 개수) -> 256(두 번째 은닉층 뉴런 개수) -> 10(결과값 0-9 분류 개수)\n",
    "```"
   ]
  },
  {
   "cell_type": "markdown",
   "metadata": {},
   "source": [
    "이를 코드로 구성하면 다음과 같다."
   ]
  },
  {
   "cell_type": "code",
   "execution_count": 3,
   "metadata": {},
   "outputs": [],
   "source": [
    "W1 = tf.Variable(tf.random_normal([784, 256], stddev=0.01))\n",
    "L1 = tf.nn.relu(tf.matmul(X, W1))\n",
    "\n",
    "W2 = tf.Variable(tf.random_normal([256, 256], stddev=0.01))\n",
    "L2 = tf.nn.relu(tf.matmul(L1, W2))\n",
    "\n",
    "W3 = tf.Variable(tf.random_normal([256, 10], stddev=0.01))\n",
    "model = tf.matmul(L2, W3)"
   ]
  },
  {
   "cell_type": "markdown",
   "metadata": {},
   "source": [
    "3. 다음으로 tf.nn.softmax_cross_entropy_with_logtis 함수를 이용하여 각 이미지에 대한 손실값(실제값과 예측값의 차이)을 구하고 tf.reduce_mean 함수를 이용해 미니배치의 평균 손실값을 구한다. 그리고 tf.train.AdamOptimizer 함수를 사용하여 이 손실값을 최소화하는 최적화를 수행하도록 그래프를 구성한다."
   ]
  },
  {
   "cell_type": "code",
   "execution_count": 4,
   "metadata": {},
   "outputs": [],
   "source": [
    "cost = tf.reduce_mean(tf.nn.softmax_cross_entropy_with_logits_v2(logits=model, labels=Y))\n",
    "optimizer = tf.train.AdamOptimizer(learning_rate=0.001).minimize(cost)"
   ]
  },
  {
   "cell_type": "markdown",
   "metadata": {},
   "source": [
    "신경망 모델 초기화, 학습 진행할 세션 시작"
   ]
  },
  {
   "cell_type": "code",
   "execution_count": 5,
   "metadata": {},
   "outputs": [],
   "source": [
    "init = tf.global_variables_initializer()"
   ]
  },
  {
   "cell_type": "code",
   "execution_count": 6,
   "metadata": {},
   "outputs": [],
   "source": [
    "sess = tf.Session()\n",
    "sess.run(init)"
   ]
  },
  {
   "cell_type": "code",
   "execution_count": 7,
   "metadata": {},
   "outputs": [],
   "source": [
    "batch_size = 100"
   ]
  },
  {
   "cell_type": "code",
   "execution_count": 8,
   "metadata": {},
   "outputs": [],
   "source": [
    "total_batch = int(mnist.train.num_examples / batch_size)"
   ]
  },
  {
   "cell_type": "markdown",
   "metadata": {},
   "source": [
    "MNIST 데이터 전체를 학습하는 일을 총 15번 반복하자. 학습 데이터 전체를 한 바퀴 도는 것을 **에포크**(epoch)라 한다.\n",
    "\n",
    "아래 반복문 학습한 데이터를 배치 크기만큼 가져온 뒤, 입력값 데이터는 batch\\_xs, 출력값 데이터는 batch\\_ys에 저장한다. 다음으로 sess.run을 이용하려 최적화시키고 손실값을 가져와서 저장한다."
   ]
  },
  {
   "cell_type": "code",
   "execution_count": 9,
   "metadata": {},
   "outputs": [
    {
     "name": "stdout",
     "output_type": "stream",
     "text": [
      "Epoch: 0001 AVG. cost= 0.411\n",
      "Epoch: 0002 AVG. cost= 0.149\n",
      "Epoch: 0003 AVG. cost= 0.096\n",
      "Epoch: 0004 AVG. cost= 0.069\n",
      "Epoch: 0005 AVG. cost= 0.052\n",
      "Epoch: 0006 AVG. cost= 0.041\n",
      "Epoch: 0007 AVG. cost= 0.030\n",
      "Epoch: 0008 AVG. cost= 0.025\n",
      "Epoch: 0009 AVG. cost= 0.021\n",
      "Epoch: 0010 AVG. cost= 0.017\n",
      "Epoch: 0011 AVG. cost= 0.016\n",
      "Epoch: 0012 AVG. cost= 0.014\n",
      "Epoch: 0013 AVG. cost= 0.014\n",
      "Epoch: 0014 AVG. cost= 0.009\n",
      "Epoch: 0015 AVG. cost= 0.012\n",
      "최적화 완료!\n"
     ]
    }
   ],
   "source": [
    "for epoch in range(15):\n",
    "    total_cost = 0\n",
    "    \n",
    "    for i in range(total_batch):\n",
    "        batch_xs, batch_ys = mnist.train.next_batch(batch_size=batch_size)\n",
    "        \n",
    "        _, cost_val = sess.run([optimizer, cost],\n",
    "                              feed_dict={X: batch_xs, Y: batch_ys})\n",
    "        \n",
    "        total_cost += cost_val\n",
    "        \n",
    "    print ('Epoch:', '%04d' % (epoch + 1),\n",
    "           'AVG. cost=', '{:.3f}'.format(total_cost / total_batch))\n",
    "    \n",
    "print ('최적화 완료!')"
   ]
  },
  {
   "cell_type": "markdown",
   "metadata": {},
   "source": [
    "6. 결과를 출력해 보자."
   ]
  },
  {
   "cell_type": "code",
   "execution_count": 10,
   "metadata": {},
   "outputs": [],
   "source": [
    "is_correct = tf.equal(tf.argmax(model, 1), tf.argmax(Y, 1))"
   ]
  },
  {
   "cell_type": "markdown",
   "metadata": {},
   "source": [
    "7. tf.cast를 이용해 is\\_correct를 0과 1로 변환한다. 그리고 변환한 값들을 tf.reduce\\_mean을 이용해 평균을 내면 그것이 바로 정확도가 된다."
   ]
  },
  {
   "cell_type": "code",
   "execution_count": 11,
   "metadata": {},
   "outputs": [
    {
     "name": "stdout",
     "output_type": "stream",
     "text": [
      "정확도: 0.9788\n"
     ]
    }
   ],
   "source": [
    "accuracy = tf.reduce_mean(tf.cast(is_correct, tf.float32))\n",
    "\n",
    "print ('정확도:', sess.run(accuracy,\n",
    "                         feed_dict={X: mnist.test.images,\n",
    "                                    Y: mnist.test.labels}))"
   ]
  },
  {
   "cell_type": "markdown",
   "metadata": {},
   "source": [
    "## 전체 코드"
   ]
  },
  {
   "cell_type": "code",
   "execution_count": 12,
   "metadata": {},
   "outputs": [
    {
     "name": "stdout",
     "output_type": "stream",
     "text": [
      "Extracting ./mnist/data/train-images-idx3-ubyte.gz\n",
      "Extracting ./mnist/data/train-labels-idx1-ubyte.gz\n",
      "Extracting ./mnist/data/t10k-images-idx3-ubyte.gz\n",
      "Extracting ./mnist/data/t10k-labels-idx1-ubyte.gz\n",
      "Epoch: 0001 AVG. cost= 0.216\n",
      "Epoch: 0002 AVG. cost= 0.092\n",
      "Epoch: 0003 AVG. cost= 0.064\n",
      "Epoch: 0004 AVG. cost= 0.049\n",
      "Epoch: 0005 AVG. cost= 0.040\n",
      "Epoch: 0006 AVG. cost= 0.031\n",
      "Epoch: 0007 AVG. cost= 0.032\n",
      "Epoch: 0008 AVG. cost= 0.028\n",
      "Epoch: 0009 AVG. cost= 0.022\n",
      "Epoch: 0010 AVG. cost= 0.022\n",
      "Epoch: 0011 AVG. cost= 0.021\n",
      "Epoch: 0012 AVG. cost= 0.021\n",
      "Epoch: 0013 AVG. cost= 0.012\n",
      "Epoch: 0014 AVG. cost= 0.017\n",
      "Epoch: 0015 AVG. cost= 0.016\n",
      "Epoch: 0016 AVG. cost= 0.012\n",
      "Epoch: 0017 AVG. cost= 0.018\n",
      "Epoch: 0018 AVG. cost= 0.010\n",
      "Epoch: 0019 AVG. cost= 0.018\n",
      "Epoch: 0020 AVG. cost= 0.011\n",
      "Epoch: 0021 AVG. cost= 0.008\n",
      "Epoch: 0022 AVG. cost= 0.016\n",
      "Epoch: 0023 AVG. cost= 0.010\n",
      "Epoch: 0024 AVG. cost= 0.011\n",
      "Epoch: 0025 AVG. cost= 0.008\n",
      "Epoch: 0026 AVG. cost= 0.013\n",
      "Epoch: 0027 AVG. cost= 0.011\n",
      "Epoch: 0028 AVG. cost= 0.008\n",
      "Epoch: 0029 AVG. cost= 0.007\n",
      "Epoch: 0030 AVG. cost= 0.008\n",
      "최적화 완료!\n",
      "정확도: 0.9771\n"
     ]
    }
   ],
   "source": [
    "import tensorflow as tf\n",
    "\n",
    "from tensorflow.examples.tutorials.mnist import input_data\n",
    "mnist = input_data.read_data_sets(\"./mnist/data/\", one_hot=True)\n",
    "\n",
    "################\n",
    "# 신경망 모델 구성 #\n",
    "################\n",
    "\n",
    "X = tf.placeholder(tf.float32, [None, 784])\n",
    "Y = tf.placeholder(tf.float32, [None, 10])\n",
    "\n",
    "W1 = tf.Variable(tf.random_normal([784, 256], stddev=0.01))\n",
    "B1 = tf.Variable(tf.zeros([256]))\n",
    "L1 = tf.add(tf.matmul(X, W1), B1)\n",
    "L1 = tf.nn.relu(L1)\n",
    "\n",
    "W2 = tf.Variable(tf.random_normal([256, 256], stddev=0.01))\n",
    "B2 = tf.Variable(tf.zeros([256]))\n",
    "L2 = tf.add(tf.matmul(L1, W2), B2)\n",
    "L2 = tf.nn.relu(L2)\n",
    "\n",
    "W3 = tf.Variable(tf.random_normal([256, 10]))\n",
    "B3 = tf.Variable(tf.zeros([10]))\n",
    "model = tf.add(tf.matmul(L2, W3), B3)\n",
    "\n",
    "cost = tf.reduce_mean(tf.nn.softmax_cross_entropy_with_logits_v2(logits=model, labels=Y))\n",
    "\n",
    "optimizer = tf.train.AdamOptimizer(learning_rate=0.001).minimize(cost)\n",
    "\n",
    "################\n",
    "# 신경망 모델 학습 #\n",
    "################\n",
    "\n",
    "init = tf.global_variables_initializer()\n",
    "sess = tf.Session()\n",
    "sess.run(init)\n",
    "\n",
    "batch_size = 100\n",
    "total_batch = int(mnist.train.num_examples / batch_size)\n",
    "\n",
    "for epoch in range(30):\n",
    "    total_cost = 0\n",
    "    \n",
    "    for i in range(total_batch):\n",
    "        batch_xs, batch_ys = mnist.train.next_batch(batch_size)\n",
    "        \n",
    "        _, cost_val = sess.run([optimizer, cost], feed_dict={X: batch_xs, Y: batch_ys})\n",
    "        total_cost += cost_val\n",
    "        \n",
    "    print ('Epoch:', '%04d' % (epoch + 1),\n",
    "           'AVG. cost=', '{:.3f}'.format(total_cost / total_batch))\n",
    "    \n",
    "print ('최적화 완료!')\n",
    "\n",
    "###########\n",
    "# 결과 확인 #\n",
    "##########\n",
    "\n",
    "is_correct = tf.equal(tf.argmax(model, axis=1), tf.argmax(Y, 1))\n",
    "accuracy = tf.reduce_mean(tf.cast(is_correct, tf.float32))\n",
    "print ('정확도:', sess.run(accuracy,\n",
    "                         feed_dict = {X: mnist.test.images,\n",
    "                                      Y: mnist.test.labels}))"
   ]
  },
  {
   "cell_type": "markdown",
   "metadata": {},
   "source": [
    "## 6.2 드롭아웃"
   ]
  },
  {
   "cell_type": "markdown",
   "metadata": {},
   "source": [
    "- **드롭아웃**은 과적합 문제를 가장 잘 해결할 수 있는 방법 중 하나이다. 학습시 전체 신경망 중 일부만을 사용하도록 하는 것이다. \n",
    "- 즉, 학습 단계마다 일부 뉴런을 제거(사용하지 않도록) 함으로써, 일부 특징이 특정 뉴런들에 고정되는 것을 막아 가중치의 균형을 잡도록 하여 과적합을 방지한다. \n",
    "- 다만, 학습 시 일부 뉴런을 학습시키지 않기 때문에 신경망이 충분히 학습되기까지의 시간은 조금 더 오래 걸린다."
   ]
  },
  {
   "cell_type": "markdown",
   "metadata": {},
   "source": [
    "1. 드롭아웃은 텐서플로가 기본으로 지원해주기 때문에 아주 간단하게 적용할 수 있다."
   ]
  },
  {
   "cell_type": "code",
   "execution_count": 13,
   "metadata": {},
   "outputs": [],
   "source": [
    "W1 = tf.Variable(tf.random_normal([784, 256], stddev=0.01))\n",
    "B1 = tf.Variable(tf.zeros([256]))\n",
    "L1 = tf.add(tf.matmul(X, W1), B1)\n",
    "L1 = tf.nn.relu(L1)\n",
    "L1 = tf.nn.dropout(L1, 0.8)\n",
    "\n",
    "W2 = tf.Variable(tf.random_normal([256, 256], stddev=0.01))\n",
    "B2 = tf.Variable(tf.zeros([256]))\n",
    "L2 = tf.add(tf.matmul(L1, W2), B2)\n",
    "L2 = tf.nn.relu(L2)\n",
    "L2 = tf.nn.dropout(L1, 0.8)"
   ]
  },
  {
   "cell_type": "markdown",
   "metadata": {},
   "source": [
    "- 계층 구성의 마지막에 tf.nn.dropout 함수를 사용하기만 하면 된다. 0.8은 사용할 뉼너의 비율을 뜻한다.\n",
    "- 학습이 끝난 후, 예측을 할 시에는 신경망 전체를 사용하도록 해야 한다. keep\\_prob 플레이스홀더를 만들어서, 학습 시에는 0.8을 넣어 드롭아웃을 사용하도록 하고, 예측 시에는 1을 넣어 신경망 전체를 사용하도록 만들어야 한다."
   ]
  },
  {
   "cell_type": "code",
   "execution_count": 14,
   "metadata": {},
   "outputs": [
    {
     "name": "stdout",
     "output_type": "stream",
     "text": [
      "정확도: 0.977\n"
     ]
    }
   ],
   "source": [
    "keep_prob = tf.placeholder(tf.float32)\n",
    "\n",
    "W1 = tf.Variable(tf.random_normal([784, 256], stddev=0.01))\n",
    "B1 = tf.Variable(tf.zeros([256]))\n",
    "L1 = tf.add(tf.matmul(X, W1), B1)\n",
    "L1 = tf.nn.relu(L1)\n",
    "L1 = tf.nn.dropout(L1, keep_prob)\n",
    "\n",
    "W2 = tf.Variable(tf.random_normal([256, 256], stddev=0.01))\n",
    "B2 = tf.Variable(tf.zeros([256]))\n",
    "L2 = tf.add(tf.matmul(L1, W2), B2)\n",
    "L2 = tf.nn.relu(L2)\n",
    "L2 = tf.nn.dropout(L1, keep_prob)\n",
    "\n",
    "# 학습 코드: keep_prob를 0.8로 넣어준다.\n",
    "_, cost_val = sess.run([optimizer, cost], feed_dict={X: batch_xs, Y:batch_ys, keep_prob:0.8})\n",
    "\n",
    "# 예측 코드: keep_prob를 1로 넣어준다.\n",
    "print ('정확도:', sess.run(accuracy,\n",
    "                         feed_dict={X: mnist.test.images,\n",
    "                                    Y: mnist.test.labels,\n",
    "                                    keep_prob: 1}))"
   ]
  },
  {
   "cell_type": "markdown",
   "metadata": {},
   "source": [
    "## 전체 코드"
   ]
  },
  {
   "cell_type": "code",
   "execution_count": 15,
   "metadata": {},
   "outputs": [
    {
     "name": "stdout",
     "output_type": "stream",
     "text": [
      "Extracting ./mnist/data/train-images-idx3-ubyte.gz\n",
      "Extracting ./mnist/data/train-labels-idx1-ubyte.gz\n",
      "Extracting ./mnist/data/t10k-images-idx3-ubyte.gz\n",
      "Extracting ./mnist/data/t10k-labels-idx1-ubyte.gz\n",
      "Epoch: 0001 AVG. cost= 0.312\n",
      "Epoch: 0002 AVG. cost= 0.178\n",
      "Epoch: 0003 AVG. cost= 0.146\n",
      "Epoch: 0004 AVG. cost= 0.128\n",
      "Epoch: 0005 AVG. cost= 0.113\n",
      "Epoch: 0006 AVG. cost= 0.103\n",
      "Epoch: 0007 AVG. cost= 0.093\n",
      "Epoch: 0008 AVG. cost= 0.088\n",
      "Epoch: 0009 AVG. cost= 0.081\n",
      "Epoch: 0010 AVG. cost= 0.077\n",
      "Epoch: 0011 AVG. cost= 0.073\n",
      "Epoch: 0012 AVG. cost= 0.067\n",
      "Epoch: 0013 AVG. cost= 0.068\n",
      "Epoch: 0014 AVG. cost= 0.064\n",
      "Epoch: 0015 AVG. cost= 0.057\n",
      "Epoch: 0016 AVG. cost= 0.058\n",
      "Epoch: 0017 AVG. cost= 0.057\n",
      "Epoch: 0018 AVG. cost= 0.052\n",
      "Epoch: 0019 AVG. cost= 0.053\n",
      "Epoch: 0020 AVG. cost= 0.048\n",
      "Epoch: 0021 AVG. cost= 0.049\n",
      "Epoch: 0022 AVG. cost= 0.047\n",
      "Epoch: 0023 AVG. cost= 0.042\n",
      "Epoch: 0024 AVG. cost= 0.042\n",
      "Epoch: 0025 AVG. cost= 0.046\n",
      "Epoch: 0026 AVG. cost= 0.041\n",
      "Epoch: 0027 AVG. cost= 0.040\n",
      "Epoch: 0028 AVG. cost= 0.038\n",
      "Epoch: 0029 AVG. cost= 0.039\n",
      "Epoch: 0030 AVG. cost= 0.037\n",
      "Epoch: 0031 AVG. cost= 0.033\n",
      "Epoch: 0032 AVG. cost= 0.035\n",
      "Epoch: 0033 AVG. cost= 0.037\n",
      "Epoch: 0034 AVG. cost= 0.035\n",
      "Epoch: 0035 AVG. cost= 0.034\n",
      "Epoch: 0036 AVG. cost= 0.037\n",
      "Epoch: 0037 AVG. cost= 0.032\n",
      "Epoch: 0038 AVG. cost= 0.031\n",
      "Epoch: 0039 AVG. cost= 0.031\n",
      "Epoch: 0040 AVG. cost= 0.032\n",
      "Epoch: 0041 AVG. cost= 0.029\n",
      "Epoch: 0042 AVG. cost= 0.030\n",
      "Epoch: 0043 AVG. cost= 0.028\n",
      "Epoch: 0044 AVG. cost= 0.027\n",
      "Epoch: 0045 AVG. cost= 0.028\n",
      "Epoch: 0046 AVG. cost= 0.029\n",
      "Epoch: 0047 AVG. cost= 0.025\n",
      "Epoch: 0048 AVG. cost= 0.029\n",
      "Epoch: 0049 AVG. cost= 0.026\n",
      "Epoch: 0050 AVG. cost= 0.026\n",
      "Epoch: 0051 AVG. cost= 0.025\n",
      "Epoch: 0052 AVG. cost= 0.027\n",
      "Epoch: 0053 AVG. cost= 0.025\n",
      "Epoch: 0054 AVG. cost= 0.028\n",
      "Epoch: 0055 AVG. cost= 0.025\n",
      "Epoch: 0056 AVG. cost= 0.024\n",
      "Epoch: 0057 AVG. cost= 0.023\n",
      "Epoch: 0058 AVG. cost= 0.021\n",
      "Epoch: 0059 AVG. cost= 0.023\n",
      "Epoch: 0060 AVG. cost= 0.023\n",
      "Epoch: 0061 AVG. cost= 0.021\n",
      "Epoch: 0062 AVG. cost= 0.022\n",
      "Epoch: 0063 AVG. cost= 0.025\n",
      "Epoch: 0064 AVG. cost= 0.022\n",
      "Epoch: 0065 AVG. cost= 0.021\n",
      "Epoch: 0066 AVG. cost= 0.024\n",
      "Epoch: 0067 AVG. cost= 0.021\n",
      "Epoch: 0068 AVG. cost= 0.022\n",
      "Epoch: 0069 AVG. cost= 0.023\n",
      "Epoch: 0070 AVG. cost= 0.021\n",
      "Epoch: 0071 AVG. cost= 0.022\n",
      "Epoch: 0072 AVG. cost= 0.020\n",
      "Epoch: 0073 AVG. cost= 0.022\n",
      "Epoch: 0074 AVG. cost= 0.018\n",
      "Epoch: 0075 AVG. cost= 0.020\n",
      "Epoch: 0076 AVG. cost= 0.020\n",
      "Epoch: 0077 AVG. cost= 0.019\n",
      "Epoch: 0078 AVG. cost= 0.019\n",
      "Epoch: 0079 AVG. cost= 0.021\n",
      "Epoch: 0080 AVG. cost= 0.019\n",
      "Epoch: 0081 AVG. cost= 0.019\n",
      "Epoch: 0082 AVG. cost= 0.019\n",
      "Epoch: 0083 AVG. cost= 0.018\n",
      "Epoch: 0084 AVG. cost= 0.019\n",
      "Epoch: 0085 AVG. cost= 0.020\n",
      "Epoch: 0086 AVG. cost= 0.019\n",
      "Epoch: 0087 AVG. cost= 0.020\n",
      "Epoch: 0088 AVG. cost= 0.016\n",
      "Epoch: 0089 AVG. cost= 0.017\n",
      "Epoch: 0090 AVG. cost= 0.019\n",
      "Epoch: 0091 AVG. cost= 0.019\n",
      "Epoch: 0092 AVG. cost= 0.018\n",
      "Epoch: 0093 AVG. cost= 0.018\n",
      "Epoch: 0094 AVG. cost= 0.018\n",
      "Epoch: 0095 AVG. cost= 0.017\n",
      "Epoch: 0096 AVG. cost= 0.017\n",
      "Epoch: 0097 AVG. cost= 0.017\n",
      "Epoch: 0098 AVG. cost= 0.017\n",
      "Epoch: 0099 AVG. cost= 0.018\n",
      "Epoch: 0100 AVG. cost= 0.019\n",
      "최적화 완료!\n",
      "정확도: 0.9805\n"
     ]
    }
   ],
   "source": [
    "import tensorflow as tf\n",
    "import numpy as np\n",
    "\n",
    "from tensorflow.examples.tutorials.mnist import input_data\n",
    "mnist = input_data.read_data_sets(\"./mnist/data/\", one_hot=True)\n",
    "\n",
    "################\n",
    "# 신경망 모델 구성 #\n",
    "################\n",
    "\n",
    "X = tf.placeholder(tf.float32, [None, 784])\n",
    "Y = tf.placeholder(tf.float32, [None, 10])\n",
    "\n",
    "keep_prob = tf.placeholder(tf.float32)\n",
    "\n",
    "W1 = tf.Variable(tf.random_normal([784, 256], stddev=0.01))\n",
    "B1 = tf.Variable(tf.zeros([256]))\n",
    "L1 = tf.add(tf.matmul(X, W1), B1)\n",
    "L1 = tf.nn.relu(L1)\n",
    "L1 = tf.nn.dropout(L1, keep_prob)\n",
    "\n",
    "W2 = tf.Variable(tf.random_normal([256, 256], stddev=0.01))\n",
    "B2 = tf.Variable(tf.zeros([256]))\n",
    "L2 = tf.add(tf.matmul(L1, W2), B2)\n",
    "L2 = tf.nn.relu(L2)\n",
    "L2 = tf.nn.dropout(L1, keep_prob)\n",
    "\n",
    "W3 = tf.Variable(tf.random_normal([256, 10]))\n",
    "B3 = tf.Variable(tf.zeros([10]))\n",
    "model = tf.add(tf.matmul(L2, W3), B3)\n",
    "\n",
    "cost = tf.reduce_mean(tf.nn.softmax_cross_entropy_with_logits_v2(logits=model, labels=Y))\n",
    "\n",
    "optimizer = tf.train.AdamOptimizer(learning_rate=0.001).minimize(cost)\n",
    "\n",
    "################\n",
    "# 신경망 모델 학습 #\n",
    "################\n",
    "\n",
    "init = tf.global_variables_initializer()\n",
    "\n",
    "sess = tf.Session()\n",
    "sess.run(init)\n",
    "\n",
    "batch_size = 100\n",
    "total_batch = int(mnist.train.num_examples / batch_size)\n",
    "\n",
    "for epoch in range(30):\n",
    "    total_cost = 0\n",
    "    \n",
    "    for i in range(total_batch):\n",
    "        batch_xs, batch_ys = mnist.train.next_batch(batch_size)\n",
    "        \n",
    "        _, cost_val = sess.run([optimizer, cost],\n",
    "                               feed_dict = {X: batch_xs,\n",
    "                                            Y: batch_ys,\n",
    "                                            keep_prob: 0.8})\n",
    "        total_cost += cost_val\n",
    "        \n",
    "    print ('Epoch:', '%04d' % (epoch + 1),\n",
    "           'AVG. cost=', '{:.3f}'.format(total_cost / total_batch))\n",
    "    \n",
    "print ('최적화 완료!')\n",
    "\n",
    "###########\n",
    "# 결과 확인 #\n",
    "##########\n",
    "\n",
    "is_correct = tf.equal(tf.argmax(model, axis=1), tf.argmax(Y, 1))\n",
    "accuracy = tf.reduce_mean(tf.cast(is_correct, tf.float32))\n",
    "print ('정확도:', sess.run(accuracy,\n",
    "                         feed_dict = {X: mnist.test.images,\n",
    "                                      Y: mnist.test.labels,\n",
    "                                      keep_prob: 1})) "
   ]
  },
  {
   "cell_type": "markdown",
   "metadata": {},
   "source": [
    "## 6.3 matplotlib"
   ]
  },
  {
   "cell_type": "markdown",
   "metadata": {},
   "source": [
    "1. matplotlib의 pyplot 임포트"
   ]
  },
  {
   "cell_type": "code",
   "execution_count": 42,
   "metadata": {},
   "outputs": [],
   "source": [
    "import matplotlib.pyplot as plt"
   ]
  },
  {
   "cell_type": "markdown",
   "metadata": {},
   "source": [
    "2. 테스트 데이터를 이용해 예측 모델을 실행하고 결과값을 labels에 저장한다."
   ]
  },
  {
   "cell_type": "code",
   "execution_count": 43,
   "metadata": {},
   "outputs": [],
   "source": [
    "labels = sess.run(model,\n",
    "                  feed_dict={X: mnist.test.images,\n",
    "                             Y: mnist.test.labels,\n",
    "                             keep_prob: 1})"
   ]
  },
  {
   "cell_type": "markdown",
   "metadata": {},
   "source": [
    "3. 그런 다음에 손글씨를 출력할 그래프를 준비한다."
   ]
  },
  {
   "cell_type": "code",
   "execution_count": 51,
   "metadata": {},
   "outputs": [
    {
     "data": {
      "image/png": "[encoded data removed]",
      "text/plain": [
       "<Figure size 432x288 with 10 Axes>"
      ]
     },
     "metadata": {},
     "output_type": "display_data"
    }
   ],
   "source": [
    "%matplotlib inline\n",
    "\n",
    "fig = plt.figure()\n",
    "\n",
    "for i in range(10):\n",
    "    # 2행 5열의 그래프를 만들고, i + 1 번째에 숫자 이미지를 출력한다.\n",
    "    subplot = fig.add_subplot(2, 5, i + 1)\n",
    "    # 이미지를 깨끗하게 출력하기 위해 x와 y의 눈금을 출력하지 않는다.\n",
    "    subplot.set_xticks([])\n",
    "    subplot.set_yticks([])\n",
    "    # 출력한 이미지 위에 예측한 숫자를 출력한다.\n",
    "    # np.argmax는 tf.argmax와 같은 기능의 함수이다.\n",
    "    # 결괏값인 labels의 i번째 요소가 원-핫 인코딩 형식으로 되어 있으므로, 해당 배열에서 가장 높은 값을 가진 인덱스를 예측한 숫자로 출력한다.\n",
    "    subplot.set_title('%d' % np.argmax(labels[i]))\n",
    "    # 1차원 배열로 되어 있는 i번째 이미지를 28 x 28 형식의 배열로 변형하여 이미지 형태로 출력한다.\n",
    "    # cmap 파라미터를 통해 이미지를 그레이스케일로 출력한다.\n",
    "    subplot.imshow(mnist.test.images[i].reshape((28, 28)), cmap=plt.cm.gray_r)\n",
    "    \n",
    "plt.show()"
   ]
  },
  {
   "cell_type": "markdown",
   "metadata": {},
   "source": [
    "## 전체 코드"
   ]
  },
  {
   "cell_type": "code",
   "execution_count": 53,
   "metadata": {},
   "outputs": [
    {
     "name": "stdout",
     "output_type": "stream",
     "text": [
      "Extracting ./mnist/data/train-images-idx3-ubyte.gz\n",
      "Extracting ./mnist/data/train-labels-idx1-ubyte.gz\n",
      "Extracting ./mnist/data/t10k-images-idx3-ubyte.gz\n",
      "Extracting ./mnist/data/t10k-labels-idx1-ubyte.gz\n",
      "Epoch: 0001 AVG. cost= 0.565\n",
      "Epoch: 0002 AVG. cost= 0.319\n",
      "Epoch: 0003 AVG. cost= 0.267\n",
      "Epoch: 0004 AVG. cost= 0.242\n",
      "Epoch: 0005 AVG. cost= 0.221\n",
      "Epoch: 0006 AVG. cost= 0.208\n",
      "Epoch: 0007 AVG. cost= 0.204\n",
      "Epoch: 0008 AVG. cost= 0.194\n",
      "Epoch: 0009 AVG. cost= 0.190\n",
      "Epoch: 0010 AVG. cost= 0.184\n",
      "Epoch: 0011 AVG. cost= 0.177\n",
      "Epoch: 0012 AVG. cost= 0.177\n",
      "Epoch: 0013 AVG. cost= 0.175\n",
      "Epoch: 0014 AVG. cost= 0.169\n",
      "Epoch: 0015 AVG. cost= 0.167\n",
      "Epoch: 0016 AVG. cost= 0.165\n",
      "Epoch: 0017 AVG. cost= 0.167\n",
      "Epoch: 0018 AVG. cost= 0.161\n",
      "Epoch: 0019 AVG. cost= 0.157\n",
      "Epoch: 0020 AVG. cost= 0.157\n",
      "Epoch: 0021 AVG. cost= 0.149\n",
      "Epoch: 0022 AVG. cost= 0.147\n",
      "Epoch: 0023 AVG. cost= 0.157\n",
      "Epoch: 0024 AVG. cost= 0.137\n",
      "Epoch: 0025 AVG. cost= 0.145\n",
      "Epoch: 0026 AVG. cost= 0.141\n",
      "Epoch: 0027 AVG. cost= 0.147\n",
      "Epoch: 0028 AVG. cost= 0.146\n",
      "Epoch: 0029 AVG. cost= 0.138\n",
      "Epoch: 0030 AVG. cost= 0.137\n",
      "최적화 완료!\n",
      "정확도: 0.9689\n"
     ]
    },
    {
     "data": {
      "image/png": "[encoded data removed]",
      "text/plain": [
       "<Figure size 432x288 with 10 Axes>"
      ]
     },
     "metadata": {},
     "output_type": "display_data"
    }
   ],
   "source": [
    "import tensorflow as tf\n",
    "import numpy as np\n",
    "from matplotlib import pyplot as plt\n",
    "\n",
    "from tensorflow.examples.tutorials.mnist import input_data\n",
    "mnist = input_data.read_data_sets(\"./mnist/data\", one_hot=True)\n",
    "\n",
    "################\n",
    "# 신경망 모델 구성 #\n",
    "################\n",
    "\n",
    "X = tf.placeholder(tf.float32, [None, 784])\n",
    "Y = tf.placeholder(tf.float32, [None, 10])\n",
    "keep_prob = tf.placeholder(tf.float32)\n",
    "\n",
    "W1 = tf.Variable(tf.random_normal([784, 256], stddev=0.01))\n",
    "B1 = tf.Variable(tf.zeros([256]))\n",
    "L1 = tf.add(tf.matmul(X, W1), B1)\n",
    "L1 = tf.nn.relu(L1)\n",
    "L1 = tf.nn.dropout(L1, keep_prob)\n",
    "\n",
    "W2 = tf.Variable(tf.random_normal([256, 256], stddev=0.01))\n",
    "B2 = tf.Variable(tf.zeros([256]))\n",
    "L2 = tf.add(tf.matmul(L1, W2), B2)\n",
    "L2 = tf.nn.relu(L2)\n",
    "L2 = tf.nn.dropout(L1, keep_prob)\n",
    "\n",
    "W3 = tf.Variable(tf.random_normal([256, 10]))\n",
    "B3 = tf.Variable(tf.zeros([10]))\n",
    "model = tf.add(tf.matmul(L2, W3), B3)\n",
    "\n",
    "cost = tf.reduce_mean(tf.nn.softmax_cross_entropy_with_logits_v2(logits=model, labels=Y))\n",
    "optimizer = tf.train.AdamOptimizer(learning_rate=0.01).minimize(cost)\n",
    "\n",
    "################\n",
    "# 신경망 모델 학습 #\n",
    "################\n",
    "\n",
    "init = tf.global_variables_initializer()\n",
    "sess = tf.Session()\n",
    "sess.run(init)\n",
    "\n",
    "batch_size = 100\n",
    "total_batch = int(mnist.train.num_examples / batch_size)\n",
    "\n",
    "for epoch in range(30):\n",
    "    total_cost = 0\n",
    "    \n",
    "    for i in range(total_batch):\n",
    "        batch_xs, batch_ys = mnist.train.next_batch(batch_size)\n",
    "        \n",
    "        _, cost_val = sess.run([optimizer, cost],\n",
    "                               feed_dict = {X: batch_xs,\n",
    "                                            Y: batch_ys,\n",
    "                                            keep_prob: 0.8})\n",
    "        total_cost += cost_val\n",
    "        \n",
    "    print ('Epoch:', '%04d' % (epoch + 1),\n",
    "           'AVG. cost=', '{:.3f}'.format(total_cost / total_batch))\n",
    "    \n",
    "print ('최적화 완료!')\n",
    "\n",
    "###########\n",
    "# 결과 확인 #\n",
    "########## \n",
    "\n",
    "is_correct = tf.equal(tf.argmax(model, axis=1), tf.argmax(Y, 1))\n",
    "accuracy = tf.reduce_mean(tf.cast(is_correct, tf.float32))\n",
    "print ('정확도:', sess.run(accuracy,\n",
    "                         feed_dict = {X: mnist.test.images,\n",
    "                                      Y: mnist.test.labels,\n",
    "                                      keep_prob: 1}))\n",
    "\n",
    "########################\n",
    "# 결과 확인 (matplotlib) #\n",
    "#######################\n",
    "\n",
    "labels = sess.run(model, feed_dict={X: mnist.test.images,\n",
    "                                    Y: mnist.test.labels,\n",
    "                                    keep_prob: 1})\n",
    "\n",
    "fig = plt.figure()\n",
    "\n",
    "for i in range(10):\n",
    "    # 2행 5열의 그래프를 만들고, i + 1 번째에 숫자 이미지를 출력한다.\n",
    "    subplot = fig.add_subplot(2, 5, i + 1)\n",
    "    # 이미지를 깨끗하게 출력하기 위해 x와 y의 눈금을 출력하지 않는다.\n",
    "    subplot.set_xticks([])\n",
    "    subplot.set_yticks([])\n",
    "    # 출력한 이미지 위에 예측한 숫자를 출력한다.\n",
    "    # np.argmax는 tf.argmax와 같은 기능의 함수이다.\n",
    "    # 결괏값인 labels의 i번째 요소가 원-핫 인코딩 형식으로 되어 있으므로, 해당 배열에서 가장 높은 값을 가진 인덱스를 예측한 숫자로 출력한다.\n",
    "    subplot.set_title('%d' % np.argmax(labels[i]))\n",
    "    # 1차원 배열로 되어 있는 i번째 이미지를 28 x 28 형식의 배열로 변형하여 이미지 형태로 출력한다.\n",
    "    # cmap 파라미터를 통해 이미지를 그레이스케일로 출력한다.\n",
    "    subplot.imshow(mnist.test.images[i].reshape((28, 28)), cmap=plt.cm.gray_r)\n",
    "    \n",
    "plt.show()"
   ]
  },
  {
   "cell_type": "markdown",
   "metadata": {},
   "source": [
    "# TODO"
   ]
  },
  {
   "cell_type": "markdown",
   "metadata": {},
   "source": [
    "- 이미지와 레이블을 범위를 변경해가면서 출력해 보자"
   ]
  },
  {
   "cell_type": "code",
   "execution_count": 63,
   "metadata": {},
   "outputs": [
    {
     "data": {
      "text/plain": [
       "10"
      ]
     },
     "execution_count": 63,
     "metadata": {},
     "output_type": "execute_result"
    }
   ],
   "source": [
    "len(list(range(10)))"
   ]
  },
  {
   "cell_type": "code",
   "execution_count": 64,
   "metadata": {},
   "outputs": [
    {
     "data": {
      "text/plain": [
       "10"
      ]
     },
     "execution_count": 64,
     "metadata": {},
     "output_type": "execute_result"
    }
   ],
   "source": [
    "len(list(range(11, 21)))"
   ]
  },
  {
   "cell_type": "code",
   "execution_count": 70,
   "metadata": {},
   "outputs": [
    {
     "data": {
      "image/png": "[encoded data removed]",
      "text/plain": [
       "<Figure size 432x288 with 10 Axes>"
      ]
     },
     "metadata": {},
     "output_type": "display_data"
    }
   ],
   "source": [
    "fig = plt.figure()\n",
    "\n",
    "for i in range(10):\n",
    "    # 2행 5열의 그래프를 만들고, i + 1 번째에 숫자 이미지를 출력한다.\n",
    "    subplot = fig.add_subplot(2, 5, i + 1)\n",
    "    # 이미지를 깨끗하게 출력하기 위해 x와 y의 눈금을 출력하지 않는다.\n",
    "    subplot.set_xticks([])\n",
    "    subplot.set_yticks([])\n",
    "    # 출력한 이미지 위에 예측한 숫자를 출력한다.\n",
    "    # np.argmax는 tf.argmax와 같은 기능의 함수이다.\n",
    "    # 결괏값인 labels의 i번째 요소가 원-핫 인코딩 형식으로 되어 있으므로, 해당 배열에서 가장 높은 값을 가진 인덱스를 예측한 숫자로 출력한다.\n",
    "    subplot.set_title('%d' % np.argmax(labels[i+10]))\n",
    "    # 1차원 배열로 되어 있는 i번째 이미지를 28 x 28 형식의 배열로 변형하여 이미지 형태로 출력한다.\n",
    "    # cmap 파라미터를 통해 이미지를 그레이스케일로 출력한다.\n",
    "    subplot.imshow(mnist.test.images[i+10].reshape((28, 28)), cmap=plt.cm.gray_r)\n",
    "    \n",
    "plt.show()"
   ]
  },
  {
   "cell_type": "markdown",
   "metadata": {},
   "source": [
    "- 학습시킨 모델을 저장하고 예측 결과만 빠르게 출력해보자"
   ]
  },
  {
   "cell_type": "markdown",
   "metadata": {},
   "source": [
    "모델 저장"
   ]
  },
  {
   "cell_type": "code",
   "execution_count": 1,
   "metadata": {},
   "outputs": [
    {
     "name": "stdout",
     "output_type": "stream",
     "text": [
      "WARNING:tensorflow:From <ipython-input-1-c4793fd12062>:6: read_data_sets (from tensorflow.contrib.learn.python.learn.datasets.mnist) is deprecated and will be removed in a future version.\n",
      "Instructions for updating:\n",
      "Please use alternatives such as official/mnist/dataset.py from tensorflow/models.\n",
      "WARNING:tensorflow:From /Users/smfc/.pyenv/versions/3.6.4/envs/golbin-3min-tensor/lib/python3.6/site-packages/tensorflow/contrib/learn/python/learn/datasets/mnist.py:260: maybe_download (from tensorflow.contrib.learn.python.learn.datasets.base) is deprecated and will be removed in a future version.\n",
      "Instructions for updating:\n",
      "Please write your own downloading logic.\n",
      "WARNING:tensorflow:From /Users/smfc/.pyenv/versions/3.6.4/envs/golbin-3min-tensor/lib/python3.6/site-packages/tensorflow/contrib/learn/python/learn/datasets/mnist.py:262: extract_images (from tensorflow.contrib.learn.python.learn.datasets.mnist) is deprecated and will be removed in a future version.\n",
      "Instructions for updating:\n",
      "Please use tf.data to implement this functionality.\n",
      "Extracting ./mnist/data/train-images-idx3-ubyte.gz\n",
      "WARNING:tensorflow:From /Users/smfc/.pyenv/versions/3.6.4/envs/golbin-3min-tensor/lib/python3.6/site-packages/tensorflow/contrib/learn/python/learn/datasets/mnist.py:267: extract_labels (from tensorflow.contrib.learn.python.learn.datasets.mnist) is deprecated and will be removed in a future version.\n",
      "Instructions for updating:\n",
      "Please use tf.data to implement this functionality.\n",
      "Extracting ./mnist/data/train-labels-idx1-ubyte.gz\n",
      "WARNING:tensorflow:From /Users/smfc/.pyenv/versions/3.6.4/envs/golbin-3min-tensor/lib/python3.6/site-packages/tensorflow/contrib/learn/python/learn/datasets/mnist.py:110: dense_to_one_hot (from tensorflow.contrib.learn.python.learn.datasets.mnist) is deprecated and will be removed in a future version.\n",
      "Instructions for updating:\n",
      "Please use tf.one_hot on tensors.\n",
      "Extracting ./mnist/data/t10k-images-idx3-ubyte.gz\n",
      "Extracting ./mnist/data/t10k-labels-idx1-ubyte.gz\n",
      "WARNING:tensorflow:From /Users/smfc/.pyenv/versions/3.6.4/envs/golbin-3min-tensor/lib/python3.6/site-packages/tensorflow/contrib/learn/python/learn/datasets/mnist.py:290: DataSet.__init__ (from tensorflow.contrib.learn.python.learn.datasets.mnist) is deprecated and will be removed in a future version.\n",
      "Instructions for updating:\n",
      "Please use alternatives such as official/mnist/dataset.py from tensorflow/models.\n",
      "INFO:tensorflow:Restoring parameters from ./model_ch6/dnn_mnist.ckpt-0\n",
      "Epoch: 0001 AVG. cost= 0.184\n",
      "Epoch: 0002 AVG. cost= 0.173\n",
      "Epoch: 0003 AVG. cost= 0.170\n",
      "Epoch: 0004 AVG. cost= 0.174\n",
      "Epoch: 0005 AVG. cost= 0.169\n",
      "Epoch: 0006 AVG. cost= 0.166\n",
      "Epoch: 0007 AVG. cost= 0.165\n",
      "Epoch: 0008 AVG. cost= 0.159\n",
      "Epoch: 0009 AVG. cost= 0.159\n",
      "Epoch: 0010 AVG. cost= 0.156\n",
      "최적화 완료!\n",
      "정확도: 0.968\n"
     ]
    },
    {
     "data": {
      "text/plain": [
       "<Figure size 640x480 with 10 Axes>"
      ]
     },
     "metadata": {},
     "output_type": "display_data"
    }
   ],
   "source": [
    "import tensorflow as tf\n",
    "import numpy as np\n",
    "from matplotlib import pyplot as plt\n",
    "\n",
    "from tensorflow.examples.tutorials.mnist import input_data\n",
    "mnist = input_data.read_data_sets(\"./mnist/data\", one_hot=True)\n",
    "\n",
    "################\n",
    "# 신경망 모델 구성 #\n",
    "################\n",
    "\n",
    "global_step = tf.Variable(0, trainable=False, name='global_step')\n",
    "\n",
    "X = tf.placeholder(tf.float32, [None, 784])\n",
    "Y = tf.placeholder(tf.float32, [None, 10])\n",
    "keep_prob = tf.placeholder(tf.float32)\n",
    "\n",
    "W1 = tf.Variable(tf.random_normal([784, 256], stddev=0.01))\n",
    "B1 = tf.Variable(tf.zeros([256]))\n",
    "L1 = tf.add(tf.matmul(X, W1), B1)\n",
    "L1 = tf.nn.relu(L1)\n",
    "L1 = tf.nn.dropout(L1, keep_prob)\n",
    "\n",
    "W2 = tf.Variable(tf.random_normal([256, 256], stddev=0.01))\n",
    "B2 = tf.Variable(tf.zeros([256]))\n",
    "L2 = tf.add(tf.matmul(L1, W2), B2)\n",
    "L2 = tf.nn.relu(L2)\n",
    "L2 = tf.nn.dropout(L1, keep_prob)\n",
    "\n",
    "W3 = tf.Variable(tf.random_normal([256, 10]))\n",
    "B3 = tf.Variable(tf.zeros([10]))\n",
    "model = tf.add(tf.matmul(L2, W3), B3)\n",
    "\n",
    "cost = tf.reduce_mean(tf.nn.softmax_cross_entropy_with_logits_v2(logits=model, labels=Y))\n",
    "optimizer = tf.train.AdamOptimizer(learning_rate=0.01).minimize(cost)\n",
    "\n",
    "################\n",
    "# 신경망 모델 학습 #\n",
    "################\n",
    "\n",
    "sess = tf.Session()\n",
    "saver = tf.train.Saver(tf.global_variables())\n",
    "\n",
    "ckpt = tf.train.get_checkpoint_state('./model_ch6/')\n",
    "if ckpt and tf.train.checkpoint_exists(ckpt.model_checkpoint_path):\n",
    "    saver.restore(sess, ckpt.model_checkpoint_path)\n",
    "else:\n",
    "    sess.run(tf.global_variables_initializer())\n",
    "    print (\"it's new, not resotred\")\n",
    "    \n",
    "\n",
    "batch_size = 100\n",
    "total_batch = int(mnist.train.num_examples / batch_size)\n",
    "\n",
    "for epoch in range(10):\n",
    "    total_cost = 0\n",
    "    \n",
    "    for i in range(total_batch):\n",
    "        batch_xs, batch_ys = mnist.train.next_batch(batch_size)\n",
    "        \n",
    "        _, cost_val = sess.run([optimizer, cost],\n",
    "                               feed_dict = {X: batch_xs,\n",
    "                                            Y: batch_ys,\n",
    "                                            keep_prob: 0.8})\n",
    "        total_cost += cost_val\n",
    "        \n",
    "    print ('Epoch:', '%04d' % (epoch + 1),\n",
    "           'AVG. cost=', '{:.3f}'.format(total_cost / total_batch))\n",
    "\n",
    "saver.save(sess, './model_ch6/dnn_mnist.ckpt', global_step=global_step)    \n",
    "\n",
    "print ('최적화 완료!')\n",
    "\n",
    "###########\n",
    "# 결과 확인 #\n",
    "########## \n",
    "\n",
    "is_correct = tf.equal(tf.argmax(model, axis=1), tf.argmax(Y, 1))\n",
    "accuracy = tf.reduce_mean(tf.cast(is_correct, tf.float32))\n",
    "print ('정확도:', sess.run(accuracy,\n",
    "                         feed_dict = {X: mnist.test.images,\n",
    "                                      Y: mnist.test.labels,\n",
    "                                      keep_prob: 1}))\n",
    "\n",
    "########################\n",
    "# 결과 확인 (matplotlib) #\n",
    "#######################\n",
    "\n",
    "labels = sess.run(model, feed_dict={X: mnist.test.images,\n",
    "                                    Y: mnist.test.labels,\n",
    "                                    keep_prob: 1})\n",
    "\n",
    "fig = plt.figure()\n",
    "\n",
    "for i in range(10):\n",
    "    # 2행 5열의 그래프를 만들고, i + 1 번째에 숫자 이미지를 출력한다.\n",
    "    subplot = fig.add_subplot(2, 5, i + 1)\n",
    "    # 이미지를 깨끗하게 출력하기 위해 x와 y의 눈금을 출력하지 않는다.\n",
    "    subplot.set_xticks([])\n",
    "    subplot.set_yticks([])\n",
    "    # 출력한 이미지 위에 예측한 숫자를 출력한다.\n",
    "    # np.argmax는 tf.argmax와 같은 기능의 함수이다.\n",
    "    # 결괏값인 labels의 i번째 요소가 원-핫 인코딩 형식으로 되어 있으므로, 해당 배열에서 가장 높은 값을 가진 인덱스를 예측한 숫자로 출력한다.\n",
    "    subplot.set_title('%d' % np.argmax(labels[i]))\n",
    "    # 1차원 배열로 되어 있는 i번째 이미지를 28 x 28 형식의 배열로 변형하여 이미지 형태로 출력한다.\n",
    "    # cmap 파라미터를 통해 이미지를 그레이스케일로 출력한다.\n",
    "    subplot.imshow(mnist.test.images[i].reshape((28, 28)), cmap=plt.cm.gray_r)\n",
    "    \n",
    "plt.show()"
   ]
  },
  {
   "cell_type": "markdown",
   "metadata": {},
   "source": [
    "결과 예측"
   ]
  },
  {
   "cell_type": "code",
   "execution_count": 1,
   "metadata": {},
   "outputs": [
    {
     "name": "stdout",
     "output_type": "stream",
     "text": [
      "WARNING:tensorflow:From <ipython-input-1-a49bd0af59a5>:6: read_data_sets (from tensorflow.contrib.learn.python.learn.datasets.mnist) is deprecated and will be removed in a future version.\n",
      "Instructions for updating:\n",
      "Please use alternatives such as official/mnist/dataset.py from tensorflow/models.\n",
      "WARNING:tensorflow:From /Users/smfc/.pyenv/versions/3.6.4/envs/golbin-3min-tensor/lib/python3.6/site-packages/tensorflow/contrib/learn/python/learn/datasets/mnist.py:260: maybe_download (from tensorflow.contrib.learn.python.learn.datasets.base) is deprecated and will be removed in a future version.\n",
      "Instructions for updating:\n",
      "Please write your own downloading logic.\n",
      "WARNING:tensorflow:From /Users/smfc/.pyenv/versions/3.6.4/envs/golbin-3min-tensor/lib/python3.6/site-packages/tensorflow/contrib/learn/python/learn/datasets/mnist.py:262: extract_images (from tensorflow.contrib.learn.python.learn.datasets.mnist) is deprecated and will be removed in a future version.\n",
      "Instructions for updating:\n",
      "Please use tf.data to implement this functionality.\n",
      "Extracting ./mnist/data/train-images-idx3-ubyte.gz\n",
      "WARNING:tensorflow:From /Users/smfc/.pyenv/versions/3.6.4/envs/golbin-3min-tensor/lib/python3.6/site-packages/tensorflow/contrib/learn/python/learn/datasets/mnist.py:267: extract_labels (from tensorflow.contrib.learn.python.learn.datasets.mnist) is deprecated and will be removed in a future version.\n",
      "Instructions for updating:\n",
      "Please use tf.data to implement this functionality.\n",
      "Extracting ./mnist/data/train-labels-idx1-ubyte.gz\n",
      "WARNING:tensorflow:From /Users/smfc/.pyenv/versions/3.6.4/envs/golbin-3min-tensor/lib/python3.6/site-packages/tensorflow/contrib/learn/python/learn/datasets/mnist.py:110: dense_to_one_hot (from tensorflow.contrib.learn.python.learn.datasets.mnist) is deprecated and will be removed in a future version.\n",
      "Instructions for updating:\n",
      "Please use tf.one_hot on tensors.\n",
      "Extracting ./mnist/data/t10k-images-idx3-ubyte.gz\n",
      "Extracting ./mnist/data/t10k-labels-idx1-ubyte.gz\n",
      "WARNING:tensorflow:From /Users/smfc/.pyenv/versions/3.6.4/envs/golbin-3min-tensor/lib/python3.6/site-packages/tensorflow/contrib/learn/python/learn/datasets/mnist.py:290: DataSet.__init__ (from tensorflow.contrib.learn.python.learn.datasets.mnist) is deprecated and will be removed in a future version.\n",
      "Instructions for updating:\n",
      "Please use alternatives such as official/mnist/dataset.py from tensorflow/models.\n",
      "INFO:tensorflow:Restoring parameters from ./model_ch6/dnn_mnist.ckpt-0\n",
      "정확도: 0.9658\n"
     ]
    }
   ],
   "source": [
    "import tensorflow as tf\n",
    "import numpy as np\n",
    "from matplotlib import pyplot as plt\n",
    "\n",
    "from tensorflow.examples.tutorials.mnist import input_data\n",
    "mnist = input_data.read_data_sets(\"./mnist/data\", one_hot=True)\n",
    "\n",
    "################\n",
    "# 신경망 모델 구성 #\n",
    "################\n",
    "\n",
    "global_step = tf.Variable(0, trainable=False, name='global_step')\n",
    "\n",
    "X = tf.placeholder(tf.float32, [None, 784])\n",
    "Y = tf.placeholder(tf.float32, [None, 10])\n",
    "keep_prob = tf.placeholder(tf.float32)\n",
    "\n",
    "W1 = tf.Variable(tf.random_normal([784, 256], stddev=0.01))\n",
    "B1 = tf.Variable(tf.zeros([256]))\n",
    "L1 = tf.add(tf.matmul(X, W1), B1)\n",
    "L1 = tf.nn.relu(L1)\n",
    "L1 = tf.nn.dropout(L1, keep_prob)\n",
    "\n",
    "W2 = tf.Variable(tf.random_normal([256, 256], stddev=0.01))\n",
    "B2 = tf.Variable(tf.zeros([256]))\n",
    "L2 = tf.add(tf.matmul(L1, W2), B2)\n",
    "L2 = tf.nn.relu(L2)\n",
    "L2 = tf.nn.dropout(L1, keep_prob)\n",
    "\n",
    "W3 = tf.Variable(tf.random_normal([256, 10]))\n",
    "B3 = tf.Variable(tf.zeros([10]))\n",
    "model = tf.add(tf.matmul(L2, W3), B3)\n",
    "\n",
    "cost = tf.reduce_mean(tf.nn.softmax_cross_entropy_with_logits_v2(logits=model, labels=Y))\n",
    "optimizer = tf.train.AdamOptimizer(learning_rate=0.01).minimize(cost)\n",
    "\n",
    "# 로딩 이전에 세션 열고\n",
    "sess = tf.Session()\n",
    "\n",
    "# tf.global_variables을 통해 앞서 정의한 변수들을 가져오는 함수이다. 이전에 학습한 결과를 불러와서 여기에 담는다.\n",
    "saver = tf.train.Saver(tf.global_variables())\n",
    "\n",
    "# 해당 체크포인트에서\n",
    "ckpt = tf.train.get_checkpoint_state('./model_ch6/')\n",
    "if ckpt and tf.train.checkpoint_exists(ckpt.model_checkpoint_path):\n",
    "    # 불러와서 담는다\n",
    "    saver.restore(sess, ckpt.model_checkpoint_path)\n",
    "    \n",
    "# 예측\n",
    "is_correct = tf.equal(tf.argmax(model, 1), tf.argmax(Y, 1))\n",
    "accuracy = tf.reduce_mean(tf.cast(is_correct, tf.float32))\n",
    "print ('정확도:', sess.run(accuracy, feed_dict={X: mnist.test.images, Y: mnist.test.labels, keep_prob: 1}))"
   ]
  },
  {
   "cell_type": "markdown",
   "metadata": {},
   "source": [
    "- 텐서플로로 손실값 그래프를 확인해보자"
   ]
  },
  {
   "cell_type": "code",
   "execution_count": 4,
   "metadata": {},
   "outputs": [
    {
     "name": "stdout",
     "output_type": "stream",
     "text": [
      "Extracting ./mnist/data/train-images-idx3-ubyte.gz\n",
      "Extracting ./mnist/data/train-labels-idx1-ubyte.gz\n",
      "Extracting ./mnist/data/t10k-images-idx3-ubyte.gz\n",
      "Extracting ./mnist/data/t10k-labels-idx1-ubyte.gz\n",
      "it's new, not resotred\n"
     ]
    },
    {
     "ename": "InvalidArgumentError",
     "evalue": "You must feed a value for placeholder tensor 'Placeholder' with dtype float and shape [?,784]\n\t [[Node: Placeholder = Placeholder[dtype=DT_FLOAT, shape=[?,784], _device=\"/job:localhost/replica:0/task:0/device:CPU:0\"]()]]\n\nCaused by op 'Placeholder', defined at:\n  File \"/Users/smfc/.pyenv/versions/3.6.4/lib/python3.6/runpy.py\", line 193, in _run_module_as_main\n    \"__main__\", mod_spec)\n  File \"/Users/smfc/.pyenv/versions/3.6.4/lib/python3.6/runpy.py\", line 85, in _run_code\n    exec(code, run_globals)\n  File \"/Users/smfc/.pyenv/versions/3.6.4/envs/golbin-3min-tensor/lib/python3.6/site-packages/ipykernel_launcher.py\", line 16, in <module>\n    app.launch_new_instance()\n  File \"/Users/smfc/.pyenv/versions/3.6.4/envs/golbin-3min-tensor/lib/python3.6/site-packages/traitlets/config/application.py\", line 658, in launch_instance\n    app.start()\n  File \"/Users/smfc/.pyenv/versions/3.6.4/envs/golbin-3min-tensor/lib/python3.6/site-packages/ipykernel/kernelapp.py\", line 486, in start\n    self.io_loop.start()\n  File \"/Users/smfc/.pyenv/versions/3.6.4/envs/golbin-3min-tensor/lib/python3.6/site-packages/tornado/platform/asyncio.py\", line 127, in start\n    self.asyncio_loop.run_forever()\n  File \"/Users/smfc/.pyenv/versions/3.6.4/lib/python3.6/asyncio/base_events.py\", line 421, in run_forever\n    self._run_once()\n  File \"/Users/smfc/.pyenv/versions/3.6.4/lib/python3.6/asyncio/base_events.py\", line 1431, in _run_once\n    handle._run()\n  File \"/Users/smfc/.pyenv/versions/3.6.4/lib/python3.6/asyncio/events.py\", line 145, in _run\n    self._callback(*self._args)\n  File \"/Users/smfc/.pyenv/versions/3.6.4/envs/golbin-3min-tensor/lib/python3.6/site-packages/tornado/platform/asyncio.py\", line 117, in _handle_events\n    handler_func(fileobj, events)\n  File \"/Users/smfc/.pyenv/versions/3.6.4/envs/golbin-3min-tensor/lib/python3.6/site-packages/tornado/stack_context.py\", line 276, in null_wrapper\n    return fn(*args, **kwargs)\n  File \"/Users/smfc/.pyenv/versions/3.6.4/envs/golbin-3min-tensor/lib/python3.6/site-packages/zmq/eventloop/zmqstream.py\", line 450, in _handle_events\n    self._handle_recv()\n  File \"/Users/smfc/.pyenv/versions/3.6.4/envs/golbin-3min-tensor/lib/python3.6/site-packages/zmq/eventloop/zmqstream.py\", line 480, in _handle_recv\n    self._run_callback(callback, msg)\n  File \"/Users/smfc/.pyenv/versions/3.6.4/envs/golbin-3min-tensor/lib/python3.6/site-packages/zmq/eventloop/zmqstream.py\", line 432, in _run_callback\n    callback(*args, **kwargs)\n  File \"/Users/smfc/.pyenv/versions/3.6.4/envs/golbin-3min-tensor/lib/python3.6/site-packages/tornado/stack_context.py\", line 276, in null_wrapper\n    return fn(*args, **kwargs)\n  File \"/Users/smfc/.pyenv/versions/3.6.4/envs/golbin-3min-tensor/lib/python3.6/site-packages/ipykernel/kernelbase.py\", line 283, in dispatcher\n    return self.dispatch_shell(stream, msg)\n  File \"/Users/smfc/.pyenv/versions/3.6.4/envs/golbin-3min-tensor/lib/python3.6/site-packages/ipykernel/kernelbase.py\", line 233, in dispatch_shell\n    handler(stream, idents, msg)\n  File \"/Users/smfc/.pyenv/versions/3.6.4/envs/golbin-3min-tensor/lib/python3.6/site-packages/ipykernel/kernelbase.py\", line 399, in execute_request\n    user_expressions, allow_stdin)\n  File \"/Users/smfc/.pyenv/versions/3.6.4/envs/golbin-3min-tensor/lib/python3.6/site-packages/ipykernel/ipkernel.py\", line 208, in do_execute\n    res = shell.run_cell(code, store_history=store_history, silent=silent)\n  File \"/Users/smfc/.pyenv/versions/3.6.4/envs/golbin-3min-tensor/lib/python3.6/site-packages/ipykernel/zmqshell.py\", line 537, in run_cell\n    return super(ZMQInteractiveShell, self).run_cell(*args, **kwargs)\n  File \"/Users/smfc/.pyenv/versions/3.6.4/envs/golbin-3min-tensor/lib/python3.6/site-packages/IPython/core/interactiveshell.py\", line 2662, in run_cell\n    raw_cell, store_history, silent, shell_futures)\n  File \"/Users/smfc/.pyenv/versions/3.6.4/envs/golbin-3min-tensor/lib/python3.6/site-packages/IPython/core/interactiveshell.py\", line 2785, in _run_cell\n    interactivity=interactivity, compiler=compiler, result=result)\n  File \"/Users/smfc/.pyenv/versions/3.6.4/envs/golbin-3min-tensor/lib/python3.6/site-packages/IPython/core/interactiveshell.py\", line 2903, in run_ast_nodes\n    if self.run_code(code, result):\n  File \"/Users/smfc/.pyenv/versions/3.6.4/envs/golbin-3min-tensor/lib/python3.6/site-packages/IPython/core/interactiveshell.py\", line 2963, in run_code\n    exec(code_obj, self.user_global_ns, self.user_ns)\n  File \"<ipython-input-1-4eb3ca6ff33c>\", line 14, in <module>\n    X = tf.placeholder(tf.float32, [None, 784])\n  File \"/Users/smfc/.pyenv/versions/3.6.4/envs/golbin-3min-tensor/lib/python3.6/site-packages/tensorflow/python/ops/array_ops.py\", line 1808, in placeholder\n    return gen_array_ops.placeholder(dtype=dtype, shape=shape, name=name)\n  File \"/Users/smfc/.pyenv/versions/3.6.4/envs/golbin-3min-tensor/lib/python3.6/site-packages/tensorflow/python/ops/gen_array_ops.py\", line 4848, in placeholder\n    \"Placeholder\", dtype=dtype, shape=shape, name=name)\n  File \"/Users/smfc/.pyenv/versions/3.6.4/envs/golbin-3min-tensor/lib/python3.6/site-packages/tensorflow/python/framework/op_def_library.py\", line 787, in _apply_op_helper\n    op_def=op_def)\n  File \"/Users/smfc/.pyenv/versions/3.6.4/envs/golbin-3min-tensor/lib/python3.6/site-packages/tensorflow/python/framework/ops.py\", line 3392, in create_op\n    op_def=op_def)\n  File \"/Users/smfc/.pyenv/versions/3.6.4/envs/golbin-3min-tensor/lib/python3.6/site-packages/tensorflow/python/framework/ops.py\", line 1718, in __init__\n    self._traceback = self._graph._extract_stack()  # pylint: disable=protected-access\n\nInvalidArgumentError (see above for traceback): You must feed a value for placeholder tensor 'Placeholder' with dtype float and shape [?,784]\n\t [[Node: Placeholder = Placeholder[dtype=DT_FLOAT, shape=[?,784], _device=\"/job:localhost/replica:0/task:0/device:CPU:0\"]()]]\n",
     "output_type": "error",
     "traceback": [
      "\u001b[0;31m---------------------------------------------------------------------------\u001b[0m",
      "\u001b[0;31mInvalidArgumentError\u001b[0m                      Traceback (most recent call last)",
      "\u001b[0;32m~/.pyenv/versions/3.6.4/envs/golbin-3min-tensor/lib/python3.6/site-packages/tensorflow/python/client/session.py\u001b[0m in \u001b[0;36m_do_call\u001b[0;34m(self, fn, *args)\u001b[0m\n\u001b[1;32m   1321\u001b[0m     \u001b[0;32mtry\u001b[0m\u001b[0;34m:\u001b[0m\u001b[0;34m\u001b[0m\u001b[0m\n\u001b[0;32m-> 1322\u001b[0;31m       \u001b[0;32mreturn\u001b[0m \u001b[0mfn\u001b[0m\u001b[0;34m(\u001b[0m\u001b[0;34m*\u001b[0m\u001b[0margs\u001b[0m\u001b[0;34m)\u001b[0m\u001b[0;34m\u001b[0m\u001b[0m\n\u001b[0m\u001b[1;32m   1323\u001b[0m     \u001b[0;32mexcept\u001b[0m \u001b[0merrors\u001b[0m\u001b[0;34m.\u001b[0m\u001b[0mOpError\u001b[0m \u001b[0;32mas\u001b[0m \u001b[0me\u001b[0m\u001b[0;34m:\u001b[0m\u001b[0;34m\u001b[0m\u001b[0m\n",
      "\u001b[0;32m~/.pyenv/versions/3.6.4/envs/golbin-3min-tensor/lib/python3.6/site-packages/tensorflow/python/client/session.py\u001b[0m in \u001b[0;36m_run_fn\u001b[0;34m(feed_dict, fetch_list, target_list, options, run_metadata)\u001b[0m\n\u001b[1;32m   1306\u001b[0m       return self._call_tf_sessionrun(\n\u001b[0;32m-> 1307\u001b[0;31m           options, feed_dict, fetch_list, target_list, run_metadata)\n\u001b[0m\u001b[1;32m   1308\u001b[0m \u001b[0;34m\u001b[0m\u001b[0m\n",
      "\u001b[0;32m~/.pyenv/versions/3.6.4/envs/golbin-3min-tensor/lib/python3.6/site-packages/tensorflow/python/client/session.py\u001b[0m in \u001b[0;36m_call_tf_sessionrun\u001b[0;34m(self, options, feed_dict, fetch_list, target_list, run_metadata)\u001b[0m\n\u001b[1;32m   1408\u001b[0m           \u001b[0mself\u001b[0m\u001b[0;34m.\u001b[0m\u001b[0m_session\u001b[0m\u001b[0;34m,\u001b[0m \u001b[0moptions\u001b[0m\u001b[0;34m,\u001b[0m \u001b[0mfeed_dict\u001b[0m\u001b[0;34m,\u001b[0m \u001b[0mfetch_list\u001b[0m\u001b[0;34m,\u001b[0m \u001b[0mtarget_list\u001b[0m\u001b[0;34m,\u001b[0m\u001b[0;34m\u001b[0m\u001b[0m\n\u001b[0;32m-> 1409\u001b[0;31m           run_metadata)\n\u001b[0m\u001b[1;32m   1410\u001b[0m     \u001b[0;32melse\u001b[0m\u001b[0;34m:\u001b[0m\u001b[0;34m\u001b[0m\u001b[0m\n",
      "\u001b[0;31mInvalidArgumentError\u001b[0m: You must feed a value for placeholder tensor 'Placeholder' with dtype float and shape [?,784]\n\t [[Node: Placeholder = Placeholder[dtype=DT_FLOAT, shape=[?,784], _device=\"/job:localhost/replica:0/task:0/device:CPU:0\"]()]]",
      "\nDuring handling of the above exception, another exception occurred:\n",
      "\u001b[0;31mInvalidArgumentError\u001b[0m                      Traceback (most recent call last)",
      "\u001b[0;32m<ipython-input-4-690216bef278>\u001b[0m in \u001b[0;36m<module>\u001b[0;34m()\u001b[0m\n\u001b[1;32m     72\u001b[0m         \u001b[0mtotal_cost\u001b[0m \u001b[0;34m+=\u001b[0m \u001b[0mcost_val\u001b[0m\u001b[0;34m\u001b[0m\u001b[0m\n\u001b[1;32m     73\u001b[0m \u001b[0;34m\u001b[0m\u001b[0m\n\u001b[0;32m---> 74\u001b[0;31m     \u001b[0msummary\u001b[0m \u001b[0;34m=\u001b[0m \u001b[0msess\u001b[0m\u001b[0;34m.\u001b[0m\u001b[0mrun\u001b[0m\u001b[0;34m(\u001b[0m\u001b[0mmerged\u001b[0m\u001b[0;34m,\u001b[0m \u001b[0mfeed_dict\u001b[0m\u001b[0;34m=\u001b[0m\u001b[0;34m{\u001b[0m\u001b[0mX\u001b[0m\u001b[0;34m:\u001b[0m \u001b[0mbatch_xs\u001b[0m\u001b[0;34m,\u001b[0m \u001b[0mY\u001b[0m\u001b[0;34m:\u001b[0m \u001b[0mbatch_ys\u001b[0m\u001b[0;34m}\u001b[0m\u001b[0;34m)\u001b[0m\u001b[0;34m\u001b[0m\u001b[0m\n\u001b[0m\u001b[1;32m     75\u001b[0m     \u001b[0mwriter\u001b[0m\u001b[0;34m.\u001b[0m\u001b[0madd_summary\u001b[0m\u001b[0;34m(\u001b[0m\u001b[0msummary\u001b[0m\u001b[0;34m,\u001b[0m \u001b[0mglobal_step\u001b[0m\u001b[0;34m=\u001b[0m\u001b[0msess\u001b[0m\u001b[0;34m.\u001b[0m\u001b[0mrun\u001b[0m\u001b[0;34m(\u001b[0m\u001b[0mglobal_step\u001b[0m\u001b[0;34m)\u001b[0m\u001b[0;34m)\u001b[0m\u001b[0;34m\u001b[0m\u001b[0m\n\u001b[1;32m     76\u001b[0m \u001b[0;34m\u001b[0m\u001b[0m\n",
      "\u001b[0;32m~/.pyenv/versions/3.6.4/envs/golbin-3min-tensor/lib/python3.6/site-packages/tensorflow/python/client/session.py\u001b[0m in \u001b[0;36mrun\u001b[0;34m(self, fetches, feed_dict, options, run_metadata)\u001b[0m\n\u001b[1;32m    898\u001b[0m     \u001b[0;32mtry\u001b[0m\u001b[0;34m:\u001b[0m\u001b[0;34m\u001b[0m\u001b[0m\n\u001b[1;32m    899\u001b[0m       result = self._run(None, fetches, feed_dict, options_ptr,\n\u001b[0;32m--> 900\u001b[0;31m                          run_metadata_ptr)\n\u001b[0m\u001b[1;32m    901\u001b[0m       \u001b[0;32mif\u001b[0m \u001b[0mrun_metadata\u001b[0m\u001b[0;34m:\u001b[0m\u001b[0;34m\u001b[0m\u001b[0m\n\u001b[1;32m    902\u001b[0m         \u001b[0mproto_data\u001b[0m \u001b[0;34m=\u001b[0m \u001b[0mtf_session\u001b[0m\u001b[0;34m.\u001b[0m\u001b[0mTF_GetBuffer\u001b[0m\u001b[0;34m(\u001b[0m\u001b[0mrun_metadata_ptr\u001b[0m\u001b[0;34m)\u001b[0m\u001b[0;34m\u001b[0m\u001b[0m\n",
      "\u001b[0;32m~/.pyenv/versions/3.6.4/envs/golbin-3min-tensor/lib/python3.6/site-packages/tensorflow/python/client/session.py\u001b[0m in \u001b[0;36m_run\u001b[0;34m(self, handle, fetches, feed_dict, options, run_metadata)\u001b[0m\n\u001b[1;32m   1133\u001b[0m     \u001b[0;32mif\u001b[0m \u001b[0mfinal_fetches\u001b[0m \u001b[0;32mor\u001b[0m \u001b[0mfinal_targets\u001b[0m \u001b[0;32mor\u001b[0m \u001b[0;34m(\u001b[0m\u001b[0mhandle\u001b[0m \u001b[0;32mand\u001b[0m \u001b[0mfeed_dict_tensor\u001b[0m\u001b[0;34m)\u001b[0m\u001b[0;34m:\u001b[0m\u001b[0;34m\u001b[0m\u001b[0m\n\u001b[1;32m   1134\u001b[0m       results = self._do_run(handle, final_targets, final_fetches,\n\u001b[0;32m-> 1135\u001b[0;31m                              feed_dict_tensor, options, run_metadata)\n\u001b[0m\u001b[1;32m   1136\u001b[0m     \u001b[0;32melse\u001b[0m\u001b[0;34m:\u001b[0m\u001b[0;34m\u001b[0m\u001b[0m\n\u001b[1;32m   1137\u001b[0m       \u001b[0mresults\u001b[0m \u001b[0;34m=\u001b[0m \u001b[0;34m[\u001b[0m\u001b[0;34m]\u001b[0m\u001b[0;34m\u001b[0m\u001b[0m\n",
      "\u001b[0;32m~/.pyenv/versions/3.6.4/envs/golbin-3min-tensor/lib/python3.6/site-packages/tensorflow/python/client/session.py\u001b[0m in \u001b[0;36m_do_run\u001b[0;34m(self, handle, target_list, fetch_list, feed_dict, options, run_metadata)\u001b[0m\n\u001b[1;32m   1314\u001b[0m     \u001b[0;32mif\u001b[0m \u001b[0mhandle\u001b[0m \u001b[0;32mis\u001b[0m \u001b[0;32mNone\u001b[0m\u001b[0;34m:\u001b[0m\u001b[0;34m\u001b[0m\u001b[0m\n\u001b[1;32m   1315\u001b[0m       return self._do_call(_run_fn, feeds, fetches, targets, options,\n\u001b[0;32m-> 1316\u001b[0;31m                            run_metadata)\n\u001b[0m\u001b[1;32m   1317\u001b[0m     \u001b[0;32melse\u001b[0m\u001b[0;34m:\u001b[0m\u001b[0;34m\u001b[0m\u001b[0m\n\u001b[1;32m   1318\u001b[0m       \u001b[0;32mreturn\u001b[0m \u001b[0mself\u001b[0m\u001b[0;34m.\u001b[0m\u001b[0m_do_call\u001b[0m\u001b[0;34m(\u001b[0m\u001b[0m_prun_fn\u001b[0m\u001b[0;34m,\u001b[0m \u001b[0mhandle\u001b[0m\u001b[0;34m,\u001b[0m \u001b[0mfeeds\u001b[0m\u001b[0;34m,\u001b[0m \u001b[0mfetches\u001b[0m\u001b[0;34m)\u001b[0m\u001b[0;34m\u001b[0m\u001b[0m\n",
      "\u001b[0;32m~/.pyenv/versions/3.6.4/envs/golbin-3min-tensor/lib/python3.6/site-packages/tensorflow/python/client/session.py\u001b[0m in \u001b[0;36m_do_call\u001b[0;34m(self, fn, *args)\u001b[0m\n\u001b[1;32m   1333\u001b[0m         \u001b[0;32mexcept\u001b[0m \u001b[0mKeyError\u001b[0m\u001b[0;34m:\u001b[0m\u001b[0;34m\u001b[0m\u001b[0m\n\u001b[1;32m   1334\u001b[0m           \u001b[0;32mpass\u001b[0m\u001b[0;34m\u001b[0m\u001b[0m\n\u001b[0;32m-> 1335\u001b[0;31m       \u001b[0;32mraise\u001b[0m \u001b[0mtype\u001b[0m\u001b[0;34m(\u001b[0m\u001b[0me\u001b[0m\u001b[0;34m)\u001b[0m\u001b[0;34m(\u001b[0m\u001b[0mnode_def\u001b[0m\u001b[0;34m,\u001b[0m \u001b[0mop\u001b[0m\u001b[0;34m,\u001b[0m \u001b[0mmessage\u001b[0m\u001b[0;34m)\u001b[0m\u001b[0;34m\u001b[0m\u001b[0m\n\u001b[0m\u001b[1;32m   1336\u001b[0m \u001b[0;34m\u001b[0m\u001b[0m\n\u001b[1;32m   1337\u001b[0m   \u001b[0;32mdef\u001b[0m \u001b[0m_extend_graph\u001b[0m\u001b[0;34m(\u001b[0m\u001b[0mself\u001b[0m\u001b[0;34m)\u001b[0m\u001b[0;34m:\u001b[0m\u001b[0;34m\u001b[0m\u001b[0m\n",
      "\u001b[0;31mInvalidArgumentError\u001b[0m: You must feed a value for placeholder tensor 'Placeholder' with dtype float and shape [?,784]\n\t [[Node: Placeholder = Placeholder[dtype=DT_FLOAT, shape=[?,784], _device=\"/job:localhost/replica:0/task:0/device:CPU:0\"]()]]\n\nCaused by op 'Placeholder', defined at:\n  File \"/Users/smfc/.pyenv/versions/3.6.4/lib/python3.6/runpy.py\", line 193, in _run_module_as_main\n    \"__main__\", mod_spec)\n  File \"/Users/smfc/.pyenv/versions/3.6.4/lib/python3.6/runpy.py\", line 85, in _run_code\n    exec(code, run_globals)\n  File \"/Users/smfc/.pyenv/versions/3.6.4/envs/golbin-3min-tensor/lib/python3.6/site-packages/ipykernel_launcher.py\", line 16, in <module>\n    app.launch_new_instance()\n  File \"/Users/smfc/.pyenv/versions/3.6.4/envs/golbin-3min-tensor/lib/python3.6/site-packages/traitlets/config/application.py\", line 658, in launch_instance\n    app.start()\n  File \"/Users/smfc/.pyenv/versions/3.6.4/envs/golbin-3min-tensor/lib/python3.6/site-packages/ipykernel/kernelapp.py\", line 486, in start\n    self.io_loop.start()\n  File \"/Users/smfc/.pyenv/versions/3.6.4/envs/golbin-3min-tensor/lib/python3.6/site-packages/tornado/platform/asyncio.py\", line 127, in start\n    self.asyncio_loop.run_forever()\n  File \"/Users/smfc/.pyenv/versions/3.6.4/lib/python3.6/asyncio/base_events.py\", line 421, in run_forever\n    self._run_once()\n  File \"/Users/smfc/.pyenv/versions/3.6.4/lib/python3.6/asyncio/base_events.py\", line 1431, in _run_once\n    handle._run()\n  File \"/Users/smfc/.pyenv/versions/3.6.4/lib/python3.6/asyncio/events.py\", line 145, in _run\n    self._callback(*self._args)\n  File \"/Users/smfc/.pyenv/versions/3.6.4/envs/golbin-3min-tensor/lib/python3.6/site-packages/tornado/platform/asyncio.py\", line 117, in _handle_events\n    handler_func(fileobj, events)\n  File \"/Users/smfc/.pyenv/versions/3.6.4/envs/golbin-3min-tensor/lib/python3.6/site-packages/tornado/stack_context.py\", line 276, in null_wrapper\n    return fn(*args, **kwargs)\n  File \"/Users/smfc/.pyenv/versions/3.6.4/envs/golbin-3min-tensor/lib/python3.6/site-packages/zmq/eventloop/zmqstream.py\", line 450, in _handle_events\n    self._handle_recv()\n  File \"/Users/smfc/.pyenv/versions/3.6.4/envs/golbin-3min-tensor/lib/python3.6/site-packages/zmq/eventloop/zmqstream.py\", line 480, in _handle_recv\n    self._run_callback(callback, msg)\n  File \"/Users/smfc/.pyenv/versions/3.6.4/envs/golbin-3min-tensor/lib/python3.6/site-packages/zmq/eventloop/zmqstream.py\", line 432, in _run_callback\n    callback(*args, **kwargs)\n  File \"/Users/smfc/.pyenv/versions/3.6.4/envs/golbin-3min-tensor/lib/python3.6/site-packages/tornado/stack_context.py\", line 276, in null_wrapper\n    return fn(*args, **kwargs)\n  File \"/Users/smfc/.pyenv/versions/3.6.4/envs/golbin-3min-tensor/lib/python3.6/site-packages/ipykernel/kernelbase.py\", line 283, in dispatcher\n    return self.dispatch_shell(stream, msg)\n  File \"/Users/smfc/.pyenv/versions/3.6.4/envs/golbin-3min-tensor/lib/python3.6/site-packages/ipykernel/kernelbase.py\", line 233, in dispatch_shell\n    handler(stream, idents, msg)\n  File \"/Users/smfc/.pyenv/versions/3.6.4/envs/golbin-3min-tensor/lib/python3.6/site-packages/ipykernel/kernelbase.py\", line 399, in execute_request\n    user_expressions, allow_stdin)\n  File \"/Users/smfc/.pyenv/versions/3.6.4/envs/golbin-3min-tensor/lib/python3.6/site-packages/ipykernel/ipkernel.py\", line 208, in do_execute\n    res = shell.run_cell(code, store_history=store_history, silent=silent)\n  File \"/Users/smfc/.pyenv/versions/3.6.4/envs/golbin-3min-tensor/lib/python3.6/site-packages/ipykernel/zmqshell.py\", line 537, in run_cell\n    return super(ZMQInteractiveShell, self).run_cell(*args, **kwargs)\n  File \"/Users/smfc/.pyenv/versions/3.6.4/envs/golbin-3min-tensor/lib/python3.6/site-packages/IPython/core/interactiveshell.py\", line 2662, in run_cell\n    raw_cell, store_history, silent, shell_futures)\n  File \"/Users/smfc/.pyenv/versions/3.6.4/envs/golbin-3min-tensor/lib/python3.6/site-packages/IPython/core/interactiveshell.py\", line 2785, in _run_cell\n    interactivity=interactivity, compiler=compiler, result=result)\n  File \"/Users/smfc/.pyenv/versions/3.6.4/envs/golbin-3min-tensor/lib/python3.6/site-packages/IPython/core/interactiveshell.py\", line 2903, in run_ast_nodes\n    if self.run_code(code, result):\n  File \"/Users/smfc/.pyenv/versions/3.6.4/envs/golbin-3min-tensor/lib/python3.6/site-packages/IPython/core/interactiveshell.py\", line 2963, in run_code\n    exec(code_obj, self.user_global_ns, self.user_ns)\n  File \"<ipython-input-1-4eb3ca6ff33c>\", line 14, in <module>\n    X = tf.placeholder(tf.float32, [None, 784])\n  File \"/Users/smfc/.pyenv/versions/3.6.4/envs/golbin-3min-tensor/lib/python3.6/site-packages/tensorflow/python/ops/array_ops.py\", line 1808, in placeholder\n    return gen_array_ops.placeholder(dtype=dtype, shape=shape, name=name)\n  File \"/Users/smfc/.pyenv/versions/3.6.4/envs/golbin-3min-tensor/lib/python3.6/site-packages/tensorflow/python/ops/gen_array_ops.py\", line 4848, in placeholder\n    \"Placeholder\", dtype=dtype, shape=shape, name=name)\n  File \"/Users/smfc/.pyenv/versions/3.6.4/envs/golbin-3min-tensor/lib/python3.6/site-packages/tensorflow/python/framework/op_def_library.py\", line 787, in _apply_op_helper\n    op_def=op_def)\n  File \"/Users/smfc/.pyenv/versions/3.6.4/envs/golbin-3min-tensor/lib/python3.6/site-packages/tensorflow/python/framework/ops.py\", line 3392, in create_op\n    op_def=op_def)\n  File \"/Users/smfc/.pyenv/versions/3.6.4/envs/golbin-3min-tensor/lib/python3.6/site-packages/tensorflow/python/framework/ops.py\", line 1718, in __init__\n    self._traceback = self._graph._extract_stack()  # pylint: disable=protected-access\n\nInvalidArgumentError (see above for traceback): You must feed a value for placeholder tensor 'Placeholder' with dtype float and shape [?,784]\n\t [[Node: Placeholder = Placeholder[dtype=DT_FLOAT, shape=[?,784], _device=\"/job:localhost/replica:0/task:0/device:CPU:0\"]()]]\n"
     ]
    }
   ],
   "source": [
    "import tensorflow as tf\n",
    "import numpy as np\n",
    "from matplotlib import pyplot as plt\n",
    "\n",
    "from tensorflow.examples.tutorials.mnist import input_data\n",
    "mnist = input_data.read_data_sets(\"./mnist/data\", one_hot=True)\n",
    "\n",
    "################\n",
    "# 신경망 모델 구성 #\n",
    "################\n",
    "\n",
    "global_step = tf.Variable(0, trainable=False, name='global_step')\n",
    "\n",
    "X = tf.placeholder(tf.float32, [None, 784])\n",
    "Y = tf.placeholder(tf.float32, [None, 10])\n",
    "keep_prob = tf.placeholder(tf.float32)\n",
    "\n",
    "with tf.name_scope('layer1'):\n",
    "    W1 = tf.Variable(tf.random_normal([784, 256], stddev=0.01))\n",
    "    B1 = tf.Variable(tf.zeros([256]))\n",
    "    L1 = tf.add(tf.matmul(X, W1), B1)\n",
    "    L1 = tf.nn.relu(L1)\n",
    "    L1 = tf.nn.dropout(L1, keep_prob)\n",
    "\n",
    "with tf.name_scope('layer2'):\n",
    "    W2 = tf.Variable(tf.random_normal([256, 256], stddev=0.01))\n",
    "    B2 = tf.Variable(tf.zeros([256]))\n",
    "    L2 = tf.add(tf.matmul(L1, W2), B2)\n",
    "    L2 = tf.nn.relu(L2)\n",
    "    L2 = tf.nn.dropout(L1, keep_prob)\n",
    "\n",
    "with tf.name_scope('output'):\n",
    "    W3 = tf.Variable(tf.random_normal([256, 10]))\n",
    "    B3 = tf.Variable(tf.zeros([10]))\n",
    "    model = tf.add(tf.matmul(L2, W3), B3)\n",
    "\n",
    "with tf.name_scope('optimizer'):\n",
    "\n",
    "    cost = tf.reduce_mean(tf.nn.softmax_cross_entropy_with_logits_v2(logits=model, labels=Y))\n",
    "    optimizer = tf.train.AdamOptimizer(learning_rate=0.01).minimize(cost)\n",
    "    \n",
    "    tf.summary.scalar('cost', cost)\n",
    "\n",
    "################\n",
    "# 신경망 모델 학습 #\n",
    "################\n",
    "\n",
    "sess = tf.Session()\n",
    "saver = tf.train.Saver(tf.global_variables())\n",
    "\n",
    "\n",
    "sess.run(tf.global_variables_initializer())\n",
    "print (\"it's new, not resotred\")\n",
    "\n",
    "merged = tf.summary.merge_all()\n",
    "writer = tf.summary.FileWriter('./logs2', sess.graph)\n",
    "\n",
    "\n",
    "batch_size = 100\n",
    "total_batch = int(mnist.train.num_examples / batch_size)\n",
    "\n",
    "for epoch in range(10):\n",
    "    total_cost = 0\n",
    "    \n",
    "    for i in range(total_batch):\n",
    "        batch_xs, batch_ys = mnist.train.next_batch(batch_size)\n",
    "        \n",
    "        _, cost_val = sess.run([optimizer, cost],\n",
    "                               feed_dict = {X: batch_xs,\n",
    "                                            Y: batch_ys,\n",
    "                                            keep_prob: 0.8})\n",
    "        total_cost += cost_val\n",
    "        \n",
    "    summary = sess.run(merged, feed_dict={X: batch_xs, Y: batch_ys})\n",
    "    writer.add_summary(summary, global_step=sess.run(global_step))\n",
    "        \n",
    "    print ('Epoch:', '%04d' % (epoch + 1),\n",
    "           'AVG. cost=', '{:.3f}'.format(total_cost / total_batch))\n",
    "\n",
    "saver.save(sess, './model_ch6/dnn_mnist.ckpt', global_step=global_step)    \n",
    "\n",
    "print ('최적화 완료!')\n",
    "\n",
    "###########\n",
    "# 결과 확인 #\n",
    "########## \n",
    "\n",
    "is_correct = tf.equal(tf.argmax(model, axis=1), tf.argmax(Y, 1))\n",
    "accuracy = tf.reduce_mean(tf.cast(is_correct, tf.float32))\n",
    "print ('정확도:', sess.run(accuracy,\n",
    "                         feed_dict = {X: mnist.test.images,\n",
    "                                      Y: mnist.test.labels,\n",
    "                                      keep_prob: 1}))\n",
    "\n",
    "########################\n",
    "# 결과 확인 (matplotlib) #\n",
    "#######################\n",
    "\n",
    "labels = sess.run(model, feed_dict={X: mnist.test.images,\n",
    "                                    Y: mnist.test.labels,\n",
    "                                    keep_prob: 1})\n",
    "\n",
    "fig = plt.figure()\n",
    "\n",
    "for i in range(10):\n",
    "    # 2행 5열의 그래프를 만들고, i + 1 번째에 숫자 이미지를 출력한다.\n",
    "    subplot = fig.add_subplot(2, 5, i + 1)\n",
    "    # 이미지를 깨끗하게 출력하기 위해 x와 y의 눈금을 출력하지 않는다.\n",
    "    subplot.set_xticks([])\n",
    "    subplot.set_yticks([])\n",
    "    # 출력한 이미지 위에 예측한 숫자를 출력한다.\n",
    "    # np.argmax는 tf.argmax와 같은 기능의 함수이다.\n",
    "    # 결괏값인 labels의 i번째 요소가 원-핫 인코딩 형식으로 되어 있으므로, 해당 배열에서 가장 높은 값을 가진 인덱스를 예측한 숫자로 출력한다.\n",
    "    subplot.set_title('%d' % np.argmax(labels[i]))\n",
    "    # 1차원 배열로 되어 있는 i번째 이미지를 28 x 28 형식의 배열로 변형하여 이미지 형태로 출력한다.\n",
    "    # cmap 파라미터를 통해 이미지를 그레이스케일로 출력한다.\n",
    "    subplot.imshow(mnist.test.images[i].reshape((28, 28)), cmap=plt.cm.gray_r)\n",
    "    \n",
    "plt.show()"
   ]
  },
  {
   "cell_type": "code",
   "execution_count": null,
   "metadata": {},
   "outputs": [],
   "source": []
  }
 ],
 "metadata": {
  "kernelspec": {
   "display_name": "Python 3",
   "language": "python",
   "name": "python3"
  },
  "language_info": {
   "codemirror_mode": {
    "name": "ipython",
    "version": 3
   },
   "file_extension": ".py",
   "mimetype": "text/x-python",
   "name": "python",
   "nbconvert_exporter": "python",
   "pygments_lexer": "ipython3",
   "version": "3.6.4"
  }
 },
 "nbformat": 4,
 "nbformat_minor": 2
}
